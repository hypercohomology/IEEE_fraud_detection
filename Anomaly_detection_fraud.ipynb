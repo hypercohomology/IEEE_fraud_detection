{
 "cells": [
  {
   "cell_type": "code",
   "execution_count": 17,
   "id": "cd4c502c-8fde-40c7-a0f1-942cb126de78",
   "metadata": {},
   "outputs": [],
   "source": [
    "import numpy as np # linear algebra\n",
    "import pandas as pd # data processing, CSV file I/O (e.g. pd.read_csv)\n",
    "from sklearn.preprocessing import LabelEncoder\n",
    "from sklearn.model_selection import train_test_split\n",
    "from sklearn.preprocessing import StandardScaler, LabelEncoder, OneHotEncoder\n",
    "from sklearn.ensemble import IsolationForest\n",
    "from sklearn.metrics import classification_report, roc_auc_score\n",
    "\n",
    "from sklearn.model_selection import StratifiedKFold\n",
    "from sklearn.model_selection import KFold\n",
    "from sklearn.metrics import accuracy_score\n",
    "from sklearn.compose import ColumnTransformer\n",
    "\n",
    "from collections import Counter\n",
    "import xgboost as xgb "
   ]
  },
  {
   "cell_type": "code",
   "execution_count": 3,
   "id": "2dc9dd9b-4001-41ea-b0e8-6085a9c0549c",
   "metadata": {},
   "outputs": [],
   "source": [
    "train_id = pd.read_csv('train_identity.csv')\n",
    "train_tr = pd.read_csv('train_transaction.csv')\n",
    "test_id = pd.read_csv('test_identity.csv')\n",
    "test_tr = pd.read_csv('test_transaction.csv')"
   ]
  },
  {
   "cell_type": "code",
   "execution_count": 5,
   "id": "be5b0b27-5ab6-4a2a-b3c7-5ade5ab6e7ee",
   "metadata": {},
   "outputs": [
    {
     "name": "stdout",
     "output_type": "stream",
     "text": [
      "(590540, 434)\n",
      "(506691, 433)\n"
     ]
    }
   ],
   "source": [
    "train = train_tr.merge(train_id, how='left', on = 'TransactionID')\n",
    "#test = test_tr.merge(test_id, how='left', left_index=True, right_index=True)\n",
    "test=test_tr.merge(test_id, how='left',on='TransactionID')\n",
    "\n",
    "print(train.shape)\n",
    "print(test.shape)\n",
    "\n",
    "y_train = train['isFraud'].copy()\n",
    "\n",
    "# Drop target, fill in NaNs\n",
    "X_train = train.drop('isFraud', axis=1)\n",
    "X_test = test.copy()\n",
    "X_train = X_train.fillna(-999)\n",
    "X_test = X_test.fillna(-999)"
   ]
  },
  {
   "cell_type": "code",
   "execution_count": 7,
   "id": "93f26a4b-39be-48fb-bbec-91fd64e9e6a9",
   "metadata": {},
   "outputs": [
    {
     "data": {
      "text/html": [
       "<div>\n",
       "<style scoped>\n",
       "    .dataframe tbody tr th:only-of-type {\n",
       "        vertical-align: middle;\n",
       "    }\n",
       "\n",
       "    .dataframe tbody tr th {\n",
       "        vertical-align: top;\n",
       "    }\n",
       "\n",
       "    .dataframe thead th {\n",
       "        text-align: right;\n",
       "    }\n",
       "</style>\n",
       "<table border=\"1\" class=\"dataframe\">\n",
       "  <thead>\n",
       "    <tr style=\"text-align: right;\">\n",
       "      <th></th>\n",
       "      <th>TransactionID</th>\n",
       "      <th>TransactionDT</th>\n",
       "      <th>TransactionAmt</th>\n",
       "      <th>ProductCD</th>\n",
       "      <th>card1</th>\n",
       "      <th>card2</th>\n",
       "      <th>card3</th>\n",
       "      <th>card4</th>\n",
       "      <th>card5</th>\n",
       "      <th>card6</th>\n",
       "      <th>...</th>\n",
       "      <th>id_31</th>\n",
       "      <th>id_32</th>\n",
       "      <th>id_33</th>\n",
       "      <th>id_34</th>\n",
       "      <th>id_35</th>\n",
       "      <th>id_36</th>\n",
       "      <th>id_37</th>\n",
       "      <th>id_38</th>\n",
       "      <th>DeviceType</th>\n",
       "      <th>DeviceInfo</th>\n",
       "    </tr>\n",
       "  </thead>\n",
       "  <tbody>\n",
       "    <tr>\n",
       "      <th>0</th>\n",
       "      <td>2987000</td>\n",
       "      <td>86400</td>\n",
       "      <td>68.5</td>\n",
       "      <td>W</td>\n",
       "      <td>13926</td>\n",
       "      <td>-999.0</td>\n",
       "      <td>150.0</td>\n",
       "      <td>discover</td>\n",
       "      <td>142.0</td>\n",
       "      <td>credit</td>\n",
       "      <td>...</td>\n",
       "      <td>-999</td>\n",
       "      <td>-999.0</td>\n",
       "      <td>-999</td>\n",
       "      <td>-999</td>\n",
       "      <td>-999</td>\n",
       "      <td>-999</td>\n",
       "      <td>-999</td>\n",
       "      <td>-999</td>\n",
       "      <td>-999</td>\n",
       "      <td>-999</td>\n",
       "    </tr>\n",
       "    <tr>\n",
       "      <th>1</th>\n",
       "      <td>2987001</td>\n",
       "      <td>86401</td>\n",
       "      <td>29.0</td>\n",
       "      <td>W</td>\n",
       "      <td>2755</td>\n",
       "      <td>404.0</td>\n",
       "      <td>150.0</td>\n",
       "      <td>mastercard</td>\n",
       "      <td>102.0</td>\n",
       "      <td>credit</td>\n",
       "      <td>...</td>\n",
       "      <td>-999</td>\n",
       "      <td>-999.0</td>\n",
       "      <td>-999</td>\n",
       "      <td>-999</td>\n",
       "      <td>-999</td>\n",
       "      <td>-999</td>\n",
       "      <td>-999</td>\n",
       "      <td>-999</td>\n",
       "      <td>-999</td>\n",
       "      <td>-999</td>\n",
       "    </tr>\n",
       "    <tr>\n",
       "      <th>2</th>\n",
       "      <td>2987002</td>\n",
       "      <td>86469</td>\n",
       "      <td>59.0</td>\n",
       "      <td>W</td>\n",
       "      <td>4663</td>\n",
       "      <td>490.0</td>\n",
       "      <td>150.0</td>\n",
       "      <td>visa</td>\n",
       "      <td>166.0</td>\n",
       "      <td>debit</td>\n",
       "      <td>...</td>\n",
       "      <td>-999</td>\n",
       "      <td>-999.0</td>\n",
       "      <td>-999</td>\n",
       "      <td>-999</td>\n",
       "      <td>-999</td>\n",
       "      <td>-999</td>\n",
       "      <td>-999</td>\n",
       "      <td>-999</td>\n",
       "      <td>-999</td>\n",
       "      <td>-999</td>\n",
       "    </tr>\n",
       "    <tr>\n",
       "      <th>3</th>\n",
       "      <td>2987003</td>\n",
       "      <td>86499</td>\n",
       "      <td>50.0</td>\n",
       "      <td>W</td>\n",
       "      <td>18132</td>\n",
       "      <td>567.0</td>\n",
       "      <td>150.0</td>\n",
       "      <td>mastercard</td>\n",
       "      <td>117.0</td>\n",
       "      <td>debit</td>\n",
       "      <td>...</td>\n",
       "      <td>-999</td>\n",
       "      <td>-999.0</td>\n",
       "      <td>-999</td>\n",
       "      <td>-999</td>\n",
       "      <td>-999</td>\n",
       "      <td>-999</td>\n",
       "      <td>-999</td>\n",
       "      <td>-999</td>\n",
       "      <td>-999</td>\n",
       "      <td>-999</td>\n",
       "    </tr>\n",
       "    <tr>\n",
       "      <th>4</th>\n",
       "      <td>2987004</td>\n",
       "      <td>86506</td>\n",
       "      <td>50.0</td>\n",
       "      <td>H</td>\n",
       "      <td>4497</td>\n",
       "      <td>514.0</td>\n",
       "      <td>150.0</td>\n",
       "      <td>mastercard</td>\n",
       "      <td>102.0</td>\n",
       "      <td>credit</td>\n",
       "      <td>...</td>\n",
       "      <td>samsung browser 6.2</td>\n",
       "      <td>32.0</td>\n",
       "      <td>2220x1080</td>\n",
       "      <td>match_status:2</td>\n",
       "      <td>T</td>\n",
       "      <td>F</td>\n",
       "      <td>T</td>\n",
       "      <td>T</td>\n",
       "      <td>mobile</td>\n",
       "      <td>SAMSUNG SM-G892A Build/NRD90M</td>\n",
       "    </tr>\n",
       "  </tbody>\n",
       "</table>\n",
       "<p>5 rows × 433 columns</p>\n",
       "</div>"
      ],
      "text/plain": [
       "   TransactionID  TransactionDT  TransactionAmt ProductCD  card1  card2  \\\n",
       "0        2987000          86400            68.5         W  13926 -999.0   \n",
       "1        2987001          86401            29.0         W   2755  404.0   \n",
       "2        2987002          86469            59.0         W   4663  490.0   \n",
       "3        2987003          86499            50.0         W  18132  567.0   \n",
       "4        2987004          86506            50.0         H   4497  514.0   \n",
       "\n",
       "   card3       card4  card5   card6  ...                id_31  id_32  \\\n",
       "0  150.0    discover  142.0  credit  ...                 -999 -999.0   \n",
       "1  150.0  mastercard  102.0  credit  ...                 -999 -999.0   \n",
       "2  150.0        visa  166.0   debit  ...                 -999 -999.0   \n",
       "3  150.0  mastercard  117.0   debit  ...                 -999 -999.0   \n",
       "4  150.0  mastercard  102.0  credit  ...  samsung browser 6.2   32.0   \n",
       "\n",
       "       id_33           id_34 id_35 id_36  id_37  id_38  DeviceType  \\\n",
       "0       -999            -999  -999  -999   -999   -999        -999   \n",
       "1       -999            -999  -999  -999   -999   -999        -999   \n",
       "2       -999            -999  -999  -999   -999   -999        -999   \n",
       "3       -999            -999  -999  -999   -999   -999        -999   \n",
       "4  2220x1080  match_status:2     T     F      T      T      mobile   \n",
       "\n",
       "                      DeviceInfo  \n",
       "0                           -999  \n",
       "1                           -999  \n",
       "2                           -999  \n",
       "3                           -999  \n",
       "4  SAMSUNG SM-G892A Build/NRD90M  \n",
       "\n",
       "[5 rows x 433 columns]"
      ]
     },
     "execution_count": 7,
     "metadata": {},
     "output_type": "execute_result"
    }
   ],
   "source": [
    "X_train.head()"
   ]
  },
  {
   "cell_type": "code",
   "execution_count": 9,
   "id": "7a78d3f4-9fcf-433b-b221-3921b4f33b76",
   "metadata": {},
   "outputs": [],
   "source": [
    "from sklearn import preprocessing"
   ]
  },
  {
   "cell_type": "code",
   "execution_count": 11,
   "id": "803f176a-2687-4a11-8474-7dcb7605edfd",
   "metadata": {},
   "outputs": [],
   "source": [
    "X_test.columns = X_test.columns.str.replace('-', '_')"
   ]
  },
  {
   "cell_type": "code",
   "execution_count": 13,
   "id": "01be5747-8003-4ff8-a5d5-72dfa1fcac11",
   "metadata": {},
   "outputs": [],
   "source": [
    "for f in X_train.columns:\n",
    "    # Check if the column exists in both X_train and X_test\n",
    "    if f in X_test.columns:\n",
    "        if X_train[f].dtype == 'object' or X_test[f].dtype == 'object': \n",
    "            lbl = preprocessing.LabelEncoder()\n",
    "            lbl.fit(list(X_train[f].values) + list(X_test[f].values))\n",
    "            X_train[f] = lbl.transform(list(X_train[f].values))\n",
    "            X_test[f] = lbl.transform(list(X_test[f].values))\n",
    "    else:\n",
    "        # Optionally handle columns that exist in X_train but not in X_test\n",
    "        print(f\"Column {f} exists in X_train but not in X_test.\")\n",
    "  "
   ]
  },
  {
   "cell_type": "code",
   "execution_count": 19,
   "id": "68ecf0e0-cd21-4251-bd8d-bd46fae216ad",
   "metadata": {},
   "outputs": [],
   "source": [
    "X_train, X_valid, y_train, y_valid = train_test_split(X_train, y_train, test_size=0.20)"
   ]
  },
  {
   "cell_type": "code",
   "execution_count": 22,
   "id": "da368362-9ff0-44bc-adb9-5256b2062370",
   "metadata": {},
   "outputs": [
    {
     "name": "stdout",
     "output_type": "stream",
     "text": [
      "              precision    recall  f1-score   support\n",
      "\n",
      "           0       0.97      0.97      0.97    113972\n",
      "           1       0.10      0.10      0.10      4136\n",
      "\n",
      "    accuracy                           0.94    118108\n",
      "   macro avg       0.53      0.53      0.53    118108\n",
      "weighted avg       0.94      0.94      0.94    118108\n",
      "\n",
      "ROC AUC Score: 0.7229066102699492\n"
     ]
    }
   ],
   "source": [
    "\n",
    "from sklearn.ensemble import IsolationForest\n",
    "from sklearn.preprocessing import StandardScaler\n",
    "from sklearn.metrics import classification_report, roc_auc_score\n",
    "\n",
    "# Assuming X_train, X_valid, y_train, y_valid are already defined\n",
    "\n",
    "# Calculate contamination ratio\n",
    "contamination_ratio = y_train.value_counts()[1] / y_train.shape[0]\n",
    "\n",
    "# Feature scaling\n",
    "scaler = StandardScaler()\n",
    "X_train_scaled = scaler.fit_transform(X_train)\n",
    "X_valid_scaled = scaler.transform(X_valid)\n",
    "\n",
    "# Initialize Isolation Forest\n",
    "iso_forest = IsolationForest(\n",
    "    n_estimators=1000,\n",
    "    max_samples=0.8,\n",
    "    contamination=contamination_ratio,\n",
    "    max_features=0.8,\n",
    "    bootstrap=True,\n",
    "    n_jobs=-1,\n",
    "    random_state=42\n",
    ")\n",
    "\n",
    "# Fit the model\n",
    "iso_forest.fit(X_train_scaled)\n",
    "\n",
    "# Get anomaly scores\n",
    "anomaly_scores_train = iso_forest.decision_function(X_train_scaled)\n",
    "anomaly_scores_valid = iso_forest.decision_function(X_valid_scaled)\n",
    "\n",
    "# Predict anomalies\n",
    "predictions = iso_forest.predict(X_valid_scaled)\n",
    "predictions = np.where(predictions == -1, 1, 0)\n",
    "\n",
    "# Evaluate\n",
    "print(classification_report(y_valid, predictions))\n",
    "\n",
    "roc_auc = roc_auc_score(y_valid, -anomaly_scores_valid)\n",
    "print(f\"ROC AUC Score: {roc_auc}\")\n"
   ]
  },
  {
   "cell_type": "code",
   "execution_count": 24,
   "id": "7aa5b9e3-c153-4187-abd2-f30b054d77e8",
   "metadata": {},
   "outputs": [],
   "source": [
    "xgb_model = xgb.XGBClassifier(\n",
    "    max_depth=8,              # Max depth of trees\n",
    "    learning_rate=0.005,       # Learning rate (step size shrinkage)\n",
    "    n_estimators=8000,         # Number of trees to be built\n",
    "    subsample=0.8,            # Fraction of samples used per tree\n",
    "    colsample_bytree=1,     # Fraction of features used per tree\n",
    "    colsample_bylevel=0.8,    # Fraction of features per tree level\n",
    "    min_child_weight=1,       # Minimum sum of instance weight in a child\n",
    "    gamma=0.005,                # Minimum loss reduction required for split\n",
    "    scale_pos_weight=1,       # Balancing positive/negative classes\n",
    "    reg_alpha=0.4,           # L1 regularization\n",
    "    reg_lambda=0.15,           # L2 regularization\n",
    "    tree_method='hist',       # Use histogram-based algorithm\n",
    "    random_state=42,          # Seed for reproducibility\n",
    "    objective='binary:logistic',  # For binary classification\n",
    "    eval_metric='auc',        # Evaluation metric\n",
    "    n_jobs=-1                 # Use all available cores\n",
    ")"
   ]
  },
  {
   "cell_type": "code",
   "execution_count": 26,
   "id": "58860ee4-efa6-4ed7-a495-7280bee25857",
   "metadata": {},
   "outputs": [
    {
     "name": "stdout",
     "output_type": "stream",
     "text": [
      "              precision    recall  f1-score   support\n",
      "\n",
      "           0       0.99      1.00      0.99    113972\n",
      "           1       0.96      0.61      0.74      4136\n",
      "\n",
      "    accuracy                           0.99    118108\n",
      "   macro avg       0.97      0.80      0.87    118108\n",
      "weighted avg       0.98      0.99      0.98    118108\n",
      "\n"
     ]
    }
   ],
   "source": [
    "# Combine with XGBoost\n",
    "X_train_augmented = X_train.copy()\n",
    "X_valid_augmented = X_valid.copy()\n",
    "X_train_augmented['anomaly_score'] = anomaly_scores_train\n",
    "X_valid_augmented['anomaly_score'] = anomaly_scores_valid\n",
    "\n",
    "# Retrain XGBoost with the new feature\n",
    "xgb_model.fit(X_train_augmented, y_train)\n",
    "\n",
    "# Predict and evaluate\n",
    "xgb_predictions = xgb_model.predict(X_valid_augmented)\n",
    "print(classification_report(y_valid, xgb_predictions))\n"
   ]
  },
  {
   "cell_type": "code",
   "execution_count": 28,
   "id": "78cb2dcf-600c-4d5f-8495-e44a9aeff148",
   "metadata": {},
   "outputs": [
    {
     "name": "stdout",
     "output_type": "stream",
     "text": [
      "ROC AUC Score: 0.7229066102699492\n"
     ]
    }
   ],
   "source": [
    "roc_auc_xgb = roc_auc_score(y_valid, xgb_predictions)\n",
    "print(f\"ROC AUC Score: {roc_auc}\")"
   ]
  },
  {
   "cell_type": "code",
   "execution_count": 30,
   "id": "29e3a7b2-f652-40f0-8f3b-886d01a94f17",
   "metadata": {},
   "outputs": [
    {
     "name": "stdout",
     "output_type": "stream",
     "text": [
      "              AnomalyScore     Label\n",
      "AnomalyScore      1.000000 -0.136014\n",
      "Label            -0.136014  1.000000\n"
     ]
    }
   ],
   "source": [
    "train_scores = pd.DataFrame({'AnomalyScore': anomaly_scores_train, 'Label': y_train})\n",
    "print(train_scores.corr())\n"
   ]
  },
  {
   "cell_type": "code",
   "execution_count": 32,
   "id": "911f8c01-b4d9-4a93-8683-b0a046c5098c",
   "metadata": {},
   "outputs": [],
   "source": [
    "from sklearn.neighbors import LocalOutlierFactor\n",
    "\n",
    "lof = LocalOutlierFactor(n_neighbors=20, contamination=contamination_ratio, novelty=True)\n",
    "lof.fit(X_train_scd)\n",
    "anomaly_scores_lof = -lof.decision_function(X_train_scaled)"
   ]
  },
  {
   "cell_type": "code",
   "execution_count": 37,
   "id": "ac18c7ba-f8ae-4686-8147-0ddec82dd335",
   "metadata": {},
   "outputs": [
    {
     "name": "stdout",
     "output_type": "stream",
     "text": [
      "           LOF_Score     Label\n",
      "LOF_Score   1.000000  0.010271\n",
      "Label       0.010271  1.000000\n"
     ]
    }
   ],
   "source": [
    "\n",
    "# Assuming you have LOF anomaly scores for the training set\n",
    "lof_scores_train = -lof.negative_outlier_factor_\n",
    "\n",
    "# Create a DataFrame to compute correlation\n",
    "lof_scores_df = pd.DataFrame({'LOF_Score': lof_scores_train, 'Label': y_train})\n",
    "correlation = lof_scores_df.corr()\n",
    "print(correlation)\n"
   ]
  },
  {
   "cell_type": "code",
   "execution_count": null,
   "id": "e5d73c01-9a7d-48ae-87ba-1d3df4d261ef",
   "metadata": {},
   "outputs": [],
   "source": []
  }
 ],
 "metadata": {
  "kernelspec": {
   "display_name": "Python 3 (ipykernel)",
   "language": "python",
   "name": "python3"
  },
  "language_info": {
   "codemirror_mode": {
    "name": "ipython",
    "version": 3
   },
   "file_extension": ".py",
   "mimetype": "text/x-python",
   "name": "python",
   "nbconvert_exporter": "python",
   "pygments_lexer": "ipython3",
   "version": "3.12.4"
  }
 },
 "nbformat": 4,
 "nbformat_minor": 5
}
